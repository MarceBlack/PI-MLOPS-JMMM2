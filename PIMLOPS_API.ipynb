{
 "cells": [
  {
   "attachments": {},
   "cell_type": "markdown",
   "metadata": {},
   "source": [
    "# Proyecto Individual #1"
   ]
  },
  {
   "attachments": {},
   "cell_type": "markdown",
   "metadata": {},
   "source": [
    "> DATAFT08 - Jorge Marcelo Mendez"
   ]
  },
  {
   "attachments": {},
   "cell_type": "markdown",
   "metadata": {},
   "source": [
    "### Desarrollo API"
   ]
  },
  {
   "attachments": {},
   "cell_type": "markdown",
   "metadata": {},
   "source": [
    "Importo librerias necesarias, asi como tambien realizo la ingesta de dataframe requerida."
   ]
  },
  {
   "cell_type": "code",
   "execution_count": null,
   "metadata": {},
   "outputs": [],
   "source": [
    "#Importo librerías\n",
    "from fastapi import FastAPI, HTTPException\n",
    "import pandas as pd"
   ]
  },
  {
   "cell_type": "code",
   "execution_count": null,
   "metadata": {},
   "outputs": [],
   "source": [
    "#Cargo el dataset en una variable\n",
    "df = pd.read_csv(\"streaming_completo.csv\")"
   ]
  },
  {
   "cell_type": "code",
   "execution_count": null,
   "metadata": {},
   "outputs": [],
   "source": [
    "#reviso que se haya cargado correctamente:\n",
    "print(df.columns)"
   ]
  },
  {
   "attachments": {},
   "cell_type": "markdown",
   "metadata": {},
   "source": [
    "Ahora bien debo trabajar con los CSV's de la carpeta \"ratings\", ya que de ello debo sacar un valor de puntuacion promedio de cada pelicula por servicio de streaming."
   ]
  },
  {
   "attachments": {},
   "cell_type": "markdown",
   "metadata": {},
   "source": [
    "---"
   ]
  },
  {
   "cell_type": "code",
   "execution_count": null,
   "metadata": {},
   "outputs": [],
   "source": [
    "# Leer archivos CSV\n",
    "ratings_1_df = pd.read_csv(r\"DATASETS_Henry\\ratings\\1.csv\") \n",
    "ratings_2_df = pd.read_csv(r\"DATASETS_Henry\\ratings\\2.csv\")\n",
    "ratings_3_df = pd.read_csv(r\"DATASETS_Henry\\ratings\\3.csv\")\n",
    "ratings_4_df = pd.read_csv(r\"DATASETS_Henry\\ratings\\4.csv\")\n",
    "ratings_5_df = pd.read_csv(r\"DATASETS_Henry\\ratings\\5.csv\")\n",
    "ratings_6_df = pd.read_csv(r\"DATASETS_Henry\\ratings\\6.csv\")\n",
    "ratings_7_df = pd.read_csv(r\"DATASETS_Henry\\ratings\\7.csv\")\n",
    "ratings_8_df = pd.read_csv(r\"DATASETS_Henry\\ratings\\8.csv\")\n",
    "\n",
    "# Concatenar dataframes\n",
    "ratings_df = pd.concat([ratings_1_df, ratings_2_df, ratings_3_df, ratings_4_df, ratings_5_df, ratings_6_df, ratings_7_df, ratings_8_df])"
   ]
  },
  {
   "cell_type": "code",
   "execution_count": null,
   "metadata": {},
   "outputs": [],
   "source": [
    "# Calcular promedio de rating por movieId\n",
    "ratings_df = ratings_df.groupby('movieId')['rating'].mean().reset_index()\n",
    "ratings_df['rating'] = ratings_df['rating'].apply(lambda x: round(x, 1))"
   ]
  },
  {
   "cell_type": "code",
   "execution_count": null,
   "metadata": {},
   "outputs": [],
   "source": [
    "# Eliminar duplicados\n",
    "ratings_df = ratings_df.drop_duplicates(subset='movieId')"
   ]
  },
  {
   "cell_type": "code",
   "execution_count": null,
   "metadata": {},
   "outputs": [],
   "source": [
    "ratings_df"
   ]
  },
  {
   "attachments": {},
   "cell_type": "markdown",
   "metadata": {},
   "source": [
    "Para poder relacionar los dataframes, debo realizar 2 acciones, la primera es eliminar la columna de show_id del dataframe de \"df\" y luego debo cambiar el nombre de la columna \"movieId\" por \"id\" y de esta manera hacer el merge de ambos dataframes y obtener uno consolidado con el nombre de \"streaming_ratings_df\"."
   ]
  },
  {
   "cell_type": "code",
   "execution_count": null,
   "metadata": {},
   "outputs": [],
   "source": [
    "df = df.drop(columns=['show_id'])"
   ]
  },
  {
   "attachments": {},
   "cell_type": "markdown",
   "metadata": {},
   "source": [
    "Reviso mis cambios"
   ]
  },
  {
   "cell_type": "code",
   "execution_count": null,
   "metadata": {},
   "outputs": [],
   "source": [
    "print(df.columns)"
   ]
  },
  {
   "cell_type": "code",
   "execution_count": null,
   "metadata": {},
   "outputs": [],
   "source": [
    "df.head()"
   ]
  },
  {
   "cell_type": "code",
   "execution_count": null,
   "metadata": {},
   "outputs": [],
   "source": [
    "ratings_df = ratings_df.rename(columns={'movieId': 'id'})"
   ]
  },
  {
   "attachments": {},
   "cell_type": "markdown",
   "metadata": {},
   "source": [
    "Reviso si los cambios fueron realizados en ambas base de datos, para luego hacer el merge y tener un solo dataframe consolidado"
   ]
  },
  {
   "cell_type": "code",
   "execution_count": null,
   "metadata": {},
   "outputs": [],
   "source": [
    "print(ratings_df.columns)"
   ]
  },
  {
   "cell_type": "code",
   "execution_count": null,
   "metadata": {},
   "outputs": [],
   "source": [
    "ratings_df.head()"
   ]
  },
  {
   "cell_type": "code",
   "execution_count": null,
   "metadata": {},
   "outputs": [],
   "source": [
    "# Unir dataframes\n",
    "streaming_ratings_df = pd.merge(df, ratings_df, on='id')"
   ]
  },
  {
   "cell_type": "code",
   "execution_count": null,
   "metadata": {},
   "outputs": [],
   "source": [
    "print(streaming_ratings_df.columns)"
   ]
  },
  {
   "attachments": {},
   "cell_type": "markdown",
   "metadata": {},
   "source": [
    "Al revisar las columnas observamos que 'rating_x' debiera ser 'rating', 'rating_y' debiera ser 'scored' y 'release_year' simplemente,'year'"
   ]
  },
  {
   "cell_type": "code",
   "execution_count": null,
   "metadata": {},
   "outputs": [],
   "source": [
    "streaming_ratings_df = streaming_ratings_df.rename(columns={'rating_x': 'rating'})\n",
    "streaming_ratings_df = streaming_ratings_df.rename(columns={'rating_y': 'scored'})\n",
    "streaming_ratings_df = streaming_ratings_df.rename(columns={'release_year': 'year'})"
   ]
  },
  {
   "attachments": {},
   "cell_type": "markdown",
   "metadata": {},
   "source": [
    "Verificamos si el cambio o rename de las columnas observadas realmente, se realizó"
   ]
  },
  {
   "cell_type": "code",
   "execution_count": null,
   "metadata": {},
   "outputs": [],
   "source": [
    "print(streaming_ratings_df.columns)"
   ]
  },
  {
   "cell_type": "code",
   "execution_count": null,
   "metadata": {},
   "outputs": [],
   "source": [
    "streaming_ratings_df"
   ]
  },
  {
   "cell_type": "code",
   "execution_count": null,
   "metadata": {},
   "outputs": [],
   "source": [
    "#exporto el archivo a un csv nuevo:\n",
    "streaming_ratings_df.to_csv(\"streaming_ratings.csv\", index=False)"
   ]
  },
  {
   "attachments": {},
   "cell_type": "markdown",
   "metadata": {},
   "source": [
    "HASTA ESTA ETAPA O PUNTO todas las pruebas han sido en mi entorno local "
   ]
  },
  {
   "attachments": {},
   "cell_type": "markdown",
   "metadata": {},
   "source": [
    "---"
   ]
  },
  {
   "attachments": {},
   "cell_type": "markdown",
   "metadata": {},
   "source": [
    "Ahora, procedemos a cumplir con cada paso requerido en esta etapa de Desarrollo API"
   ]
  },
  {
   "attachments": {},
   "cell_type": "markdown",
   "metadata": {},
   "source": [
    "### PRIMERA CONSULTA"
   ]
  },
  {
   "attachments": {},
   "cell_type": "markdown",
   "metadata": {},
   "source": [
    "Película con mayor duración con filtros opcionales de AÑO, PLATAFORMA Y TIPO DE DURACIÓN. (la función debe llamarse get_max_duration(year, platform, duration_type))"
   ]
  },
  {
   "cell_type": "code",
   "execution_count": 92,
   "metadata": {},
   "outputs": [
    {
     "name": "stdout",
     "output_type": "stream",
     "text": [
      "Index(['type', 'title', 'director', 'cast', 'country', 'date_added', 'year',\n",
      "       'rating', 'listed_in', 'description', 'platform', 'id', 'duration_int',\n",
      "       'duration_type', 'scored'],\n",
      "      dtype='object')\n"
     ]
    }
   ],
   "source": [
    "print(streaming_ratings_df.columns)"
   ]
  },
  {
   "cell_type": "code",
   "execution_count": 93,
   "metadata": {},
   "outputs": [],
   "source": [
    "import pandas as pd\n",
    "from fastapi import FastAPI\n",
    "\n",
    "app = FastAPI()\n",
    "\n",
    "@app.get(\"/\")\n",
    "async def root():\n",
    "    return {\"message\": \"Bienvenido a mi API de streaming de películas para Henry, te saluda Jorge Marcelo Mendez\"}\n",
    "\n",
    "# Consulta 1: Película con mayor duración con filtros opcionales de AÑO, PLATAFORMA Y TIPO DE DURACIÓN.\n",
    "@app.get(\"/get_max_duration\")\n",
    "async def get_max_duration(year: int = None, platform: str = None, duration_type: str = None):\n",
    "    streaming_ratings_df = pd.read_csv('streaming_ratings.csv')\n",
    "    \n",
    "    # Filtrar las columnas\n",
    "    filtered_df = streaming_ratings_df.loc[(streaming_ratings_df[\"year\"] == year if year is not None else True) &\n",
    "                         (streaming_ratings_df[\"platform\"] == platform if platform is not None else True) &\n",
    "                         (streaming_ratings_df[\"duration_type\"] == duration_type if duration_type is not None else True)]\n",
    "\n",
    "    # Verificar si el DataFrame filtrado está vacío\n",
    "    if filtered_df.empty:\n",
    "        return {\"message\": \"No se encontró una película con los filtros proporcionados.\"}\n",
    "    \n",
    "    # Mostrar la película con la mayor duración\n",
    "    max_duration_movie = filtered_df.loc[filtered_df[\"duration_int\"].idxmax()]\n",
    "\n",
    "    return max_duration_movie.to_dict()"
   ]
  },
  {
   "cell_type": "code",
   "execution_count": 94,
   "metadata": {},
   "outputs": [
    {
     "data": {
      "text/html": [
       "<div>\n",
       "<style scoped>\n",
       "    .dataframe tbody tr th:only-of-type {\n",
       "        vertical-align: middle;\n",
       "    }\n",
       "\n",
       "    .dataframe tbody tr th {\n",
       "        vertical-align: top;\n",
       "    }\n",
       "\n",
       "    .dataframe thead th {\n",
       "        text-align: right;\n",
       "    }\n",
       "</style>\n",
       "<table border=\"1\" class=\"dataframe\">\n",
       "  <thead>\n",
       "    <tr style=\"text-align: right;\">\n",
       "      <th></th>\n",
       "      <th>type</th>\n",
       "      <th>title</th>\n",
       "      <th>director</th>\n",
       "      <th>cast</th>\n",
       "      <th>country</th>\n",
       "      <th>date_added</th>\n",
       "      <th>year</th>\n",
       "      <th>rating</th>\n",
       "      <th>listed_in</th>\n",
       "      <th>description</th>\n",
       "      <th>platform</th>\n",
       "      <th>id</th>\n",
       "      <th>duration_int</th>\n",
       "      <th>duration_type</th>\n",
       "      <th>scored</th>\n",
       "    </tr>\n",
       "  </thead>\n",
       "  <tbody>\n",
       "    <tr>\n",
       "      <th>0</th>\n",
       "      <td>movie</td>\n",
       "      <td>dick johnson is dead</td>\n",
       "      <td>kirsten johnson</td>\n",
       "      <td>NaN</td>\n",
       "      <td>united states</td>\n",
       "      <td>2021-09-25</td>\n",
       "      <td>2020</td>\n",
       "      <td>pg-13</td>\n",
       "      <td>documentaries</td>\n",
       "      <td>as her father nears the end of his life, filmm...</td>\n",
       "      <td>netflix</td>\n",
       "      <td>ns1</td>\n",
       "      <td>90.0</td>\n",
       "      <td>min</td>\n",
       "      <td>3.6</td>\n",
       "    </tr>\n",
       "    <tr>\n",
       "      <th>1</th>\n",
       "      <td>tv show</td>\n",
       "      <td>blood &amp; water</td>\n",
       "      <td>NaN</td>\n",
       "      <td>ama qamata, khosi ngema, gail mabalane, thaban...</td>\n",
       "      <td>south africa</td>\n",
       "      <td>2021-09-24</td>\n",
       "      <td>2021</td>\n",
       "      <td>tv-ma</td>\n",
       "      <td>international tv shows, tv dramas, tv mysteries</td>\n",
       "      <td>after crossing paths at a party, a cape town t...</td>\n",
       "      <td>netflix</td>\n",
       "      <td>ns2</td>\n",
       "      <td>2.0</td>\n",
       "      <td>season</td>\n",
       "      <td>3.6</td>\n",
       "    </tr>\n",
       "    <tr>\n",
       "      <th>2</th>\n",
       "      <td>tv show</td>\n",
       "      <td>ganglands</td>\n",
       "      <td>julien leclercq</td>\n",
       "      <td>sami bouajila, tracy gotoas, samuel jouy, nabi...</td>\n",
       "      <td>NaN</td>\n",
       "      <td>2021-09-24</td>\n",
       "      <td>2021</td>\n",
       "      <td>tv-ma</td>\n",
       "      <td>crime tv shows, international tv shows, tv act...</td>\n",
       "      <td>to protect his family from a powerful drug lor...</td>\n",
       "      <td>netflix</td>\n",
       "      <td>ns3</td>\n",
       "      <td>1.0</td>\n",
       "      <td>season</td>\n",
       "      <td>3.6</td>\n",
       "    </tr>\n",
       "    <tr>\n",
       "      <th>3</th>\n",
       "      <td>tv show</td>\n",
       "      <td>jailbirds new orleans</td>\n",
       "      <td>NaN</td>\n",
       "      <td>NaN</td>\n",
       "      <td>NaN</td>\n",
       "      <td>2021-09-24</td>\n",
       "      <td>2021</td>\n",
       "      <td>tv-ma</td>\n",
       "      <td>docuseries, reality tv</td>\n",
       "      <td>feuds, flirtations and toilet talk go down amo...</td>\n",
       "      <td>netflix</td>\n",
       "      <td>ns4</td>\n",
       "      <td>1.0</td>\n",
       "      <td>season</td>\n",
       "      <td>3.6</td>\n",
       "    </tr>\n",
       "    <tr>\n",
       "      <th>4</th>\n",
       "      <td>tv show</td>\n",
       "      <td>kota factory</td>\n",
       "      <td>NaN</td>\n",
       "      <td>mayur more, jitendra kumar, ranjan raj, alam k...</td>\n",
       "      <td>india</td>\n",
       "      <td>2021-09-24</td>\n",
       "      <td>2021</td>\n",
       "      <td>tv-ma</td>\n",
       "      <td>international tv shows, romantic tv shows, tv ...</td>\n",
       "      <td>in a city of coaching centers known to train i...</td>\n",
       "      <td>netflix</td>\n",
       "      <td>ns5</td>\n",
       "      <td>2.0</td>\n",
       "      <td>season</td>\n",
       "      <td>3.6</td>\n",
       "    </tr>\n",
       "    <tr>\n",
       "      <th>...</th>\n",
       "      <td>...</td>\n",
       "      <td>...</td>\n",
       "      <td>...</td>\n",
       "      <td>...</td>\n",
       "      <td>...</td>\n",
       "      <td>...</td>\n",
       "      <td>...</td>\n",
       "      <td>...</td>\n",
       "      <td>...</td>\n",
       "      <td>...</td>\n",
       "      <td>...</td>\n",
       "      <td>...</td>\n",
       "      <td>...</td>\n",
       "      <td>...</td>\n",
       "      <td>...</td>\n",
       "    </tr>\n",
       "    <tr>\n",
       "      <th>22993</th>\n",
       "      <td>tv show</td>\n",
       "      <td>star trek: the original series</td>\n",
       "      <td>NaN</td>\n",
       "      <td>NaN</td>\n",
       "      <td>united states</td>\n",
       "      <td>NaN</td>\n",
       "      <td>1966</td>\n",
       "      <td>tv-pg</td>\n",
       "      <td>action, adventure, classics</td>\n",
       "      <td>the 23rd century adventures of captain james t...</td>\n",
       "      <td>hulu</td>\n",
       "      <td>hs3069</td>\n",
       "      <td>3.0</td>\n",
       "      <td>season</td>\n",
       "      <td>3.5</td>\n",
       "    </tr>\n",
       "    <tr>\n",
       "      <th>22994</th>\n",
       "      <td>tv show</td>\n",
       "      <td>star trek: voyager</td>\n",
       "      <td>NaN</td>\n",
       "      <td>NaN</td>\n",
       "      <td>united states</td>\n",
       "      <td>NaN</td>\n",
       "      <td>1997</td>\n",
       "      <td>tv-pg</td>\n",
       "      <td>action, adventure, science fiction</td>\n",
       "      <td>catapulted into the distant sector of the gala...</td>\n",
       "      <td>hulu</td>\n",
       "      <td>hs3070</td>\n",
       "      <td>7.0</td>\n",
       "      <td>season</td>\n",
       "      <td>3.5</td>\n",
       "    </tr>\n",
       "    <tr>\n",
       "      <th>22995</th>\n",
       "      <td>tv show</td>\n",
       "      <td>the fades</td>\n",
       "      <td>NaN</td>\n",
       "      <td>NaN</td>\n",
       "      <td>united kingdom</td>\n",
       "      <td>NaN</td>\n",
       "      <td>2011</td>\n",
       "      <td>tv-14</td>\n",
       "      <td>horror, international, science fiction</td>\n",
       "      <td>seventeen-year-old paul is haunted by apocalyp...</td>\n",
       "      <td>hulu</td>\n",
       "      <td>hs3071</td>\n",
       "      <td>1.0</td>\n",
       "      <td>season</td>\n",
       "      <td>3.5</td>\n",
       "    </tr>\n",
       "    <tr>\n",
       "      <th>22996</th>\n",
       "      <td>tv show</td>\n",
       "      <td>the twilight zone</td>\n",
       "      <td>NaN</td>\n",
       "      <td>NaN</td>\n",
       "      <td>united states</td>\n",
       "      <td>NaN</td>\n",
       "      <td>1959</td>\n",
       "      <td>tv-pg</td>\n",
       "      <td>classics, science fiction, thriller</td>\n",
       "      <td>rod serling's seminal anthology series focused...</td>\n",
       "      <td>hulu</td>\n",
       "      <td>hs3072</td>\n",
       "      <td>5.0</td>\n",
       "      <td>season</td>\n",
       "      <td>3.5</td>\n",
       "    </tr>\n",
       "    <tr>\n",
       "      <th>22997</th>\n",
       "      <td>tv show</td>\n",
       "      <td>tokyo magnitude 8.0</td>\n",
       "      <td>NaN</td>\n",
       "      <td>NaN</td>\n",
       "      <td>japan</td>\n",
       "      <td>NaN</td>\n",
       "      <td>2009</td>\n",
       "      <td>tv-14</td>\n",
       "      <td>anime, drama, international</td>\n",
       "      <td>the devastation is unleashed in the span of se...</td>\n",
       "      <td>hulu</td>\n",
       "      <td>hs3073</td>\n",
       "      <td>1.0</td>\n",
       "      <td>season</td>\n",
       "      <td>3.6</td>\n",
       "    </tr>\n",
       "  </tbody>\n",
       "</table>\n",
       "<p>22998 rows × 15 columns</p>\n",
       "</div>"
      ],
      "text/plain": [
       "          type                           title         director  \\\n",
       "0        movie            dick johnson is dead  kirsten johnson   \n",
       "1      tv show                   blood & water              NaN   \n",
       "2      tv show                       ganglands  julien leclercq   \n",
       "3      tv show           jailbirds new orleans              NaN   \n",
       "4      tv show                    kota factory              NaN   \n",
       "...        ...                             ...              ...   \n",
       "22993  tv show  star trek: the original series              NaN   \n",
       "22994  tv show              star trek: voyager              NaN   \n",
       "22995  tv show                       the fades              NaN   \n",
       "22996  tv show               the twilight zone              NaN   \n",
       "22997  tv show             tokyo magnitude 8.0              NaN   \n",
       "\n",
       "                                                    cast         country  \\\n",
       "0                                                    NaN   united states   \n",
       "1      ama qamata, khosi ngema, gail mabalane, thaban...    south africa   \n",
       "2      sami bouajila, tracy gotoas, samuel jouy, nabi...             NaN   \n",
       "3                                                    NaN             NaN   \n",
       "4      mayur more, jitendra kumar, ranjan raj, alam k...           india   \n",
       "...                                                  ...             ...   \n",
       "22993                                                NaN   united states   \n",
       "22994                                                NaN   united states   \n",
       "22995                                                NaN  united kingdom   \n",
       "22996                                                NaN   united states   \n",
       "22997                                                NaN           japan   \n",
       "\n",
       "       date_added  year rating  \\\n",
       "0      2021-09-25  2020  pg-13   \n",
       "1      2021-09-24  2021  tv-ma   \n",
       "2      2021-09-24  2021  tv-ma   \n",
       "3      2021-09-24  2021  tv-ma   \n",
       "4      2021-09-24  2021  tv-ma   \n",
       "...           ...   ...    ...   \n",
       "22993         NaN  1966  tv-pg   \n",
       "22994         NaN  1997  tv-pg   \n",
       "22995         NaN  2011  tv-14   \n",
       "22996         NaN  1959  tv-pg   \n",
       "22997         NaN  2009  tv-14   \n",
       "\n",
       "                                               listed_in  \\\n",
       "0                                          documentaries   \n",
       "1        international tv shows, tv dramas, tv mysteries   \n",
       "2      crime tv shows, international tv shows, tv act...   \n",
       "3                                 docuseries, reality tv   \n",
       "4      international tv shows, romantic tv shows, tv ...   \n",
       "...                                                  ...   \n",
       "22993                        action, adventure, classics   \n",
       "22994                 action, adventure, science fiction   \n",
       "22995             horror, international, science fiction   \n",
       "22996                classics, science fiction, thriller   \n",
       "22997                        anime, drama, international   \n",
       "\n",
       "                                             description platform      id  \\\n",
       "0      as her father nears the end of his life, filmm...  netflix     ns1   \n",
       "1      after crossing paths at a party, a cape town t...  netflix     ns2   \n",
       "2      to protect his family from a powerful drug lor...  netflix     ns3   \n",
       "3      feuds, flirtations and toilet talk go down amo...  netflix     ns4   \n",
       "4      in a city of coaching centers known to train i...  netflix     ns5   \n",
       "...                                                  ...      ...     ...   \n",
       "22993  the 23rd century adventures of captain james t...     hulu  hs3069   \n",
       "22994  catapulted into the distant sector of the gala...     hulu  hs3070   \n",
       "22995  seventeen-year-old paul is haunted by apocalyp...     hulu  hs3071   \n",
       "22996  rod serling's seminal anthology series focused...     hulu  hs3072   \n",
       "22997  the devastation is unleashed in the span of se...     hulu  hs3073   \n",
       "\n",
       "       duration_int duration_type  scored  \n",
       "0              90.0           min     3.6  \n",
       "1               2.0        season     3.6  \n",
       "2               1.0        season     3.6  \n",
       "3               1.0        season     3.6  \n",
       "4               2.0        season     3.6  \n",
       "...             ...           ...     ...  \n",
       "22993           3.0        season     3.5  \n",
       "22994           7.0        season     3.5  \n",
       "22995           1.0        season     3.5  \n",
       "22996           5.0        season     3.5  \n",
       "22997           1.0        season     3.6  \n",
       "\n",
       "[22998 rows x 15 columns]"
      ]
     },
     "execution_count": 94,
     "metadata": {},
     "output_type": "execute_result"
    }
   ],
   "source": [
    "streaming_ratings_df"
   ]
  },
  {
   "attachments": {},
   "cell_type": "markdown",
   "metadata": {},
   "source": [
    "Reviso con un ejemplo:"
   ]
  },
  {
   "cell_type": "code",
   "execution_count": 95,
   "metadata": {},
   "outputs": [
    {
     "data": {
      "text/plain": [
       "<coroutine object get_max_duration at 0x000001B48DC42D40>"
      ]
     },
     "execution_count": 95,
     "metadata": {},
     "output_type": "execute_result"
    }
   ],
   "source": [
    "get_max_duration(year=2021, platform='netflix', duration_type='season')"
   ]
  },
  {
   "attachments": {},
   "cell_type": "markdown",
   "metadata": {},
   "source": [
    "### SEGUNDA CONSULTA"
   ]
  },
  {
   "attachments": {},
   "cell_type": "markdown",
   "metadata": {},
   "source": [
    "Cantidad de películas por plataforma con un puntaje mayor a XX en determinado año (la función debe llamarse get_score_count(platform, scored, year))"
   ]
  },
  {
   "attachments": {},
   "cell_type": "markdown",
   "metadata": {},
   "source": [
    "Primero debo generar un archivo completo, que incluya los scores promedio"
   ]
  },
  {
   "cell_type": "code",
   "execution_count": 104,
   "metadata": {},
   "outputs": [
    {
     "name": "stdout",
     "output_type": "stream",
     "text": [
      "Index(['type', 'title', 'director', 'cast', 'country', 'date_added', 'year',\n",
      "       'rating', 'listed_in', 'description', 'platform', 'id', 'duration_int',\n",
      "       'duration_type', 'scored'],\n",
      "      dtype='object')\n"
     ]
    }
   ],
   "source": [
    "print(streaming_ratings_df.columns)"
   ]
  },
  {
   "cell_type": "code",
   "execution_count": 117,
   "metadata": {},
   "outputs": [],
   "source": [
    "@app.get('/score_count/')\n",
    "def get_score_count(platform: str, scored: float, year: int = None):\n",
    "    streaming_ratings_df = pd.read_csv('streaming_ratings.csv')\n",
    "    # Filtrar los datos según los valores de los parámetros\n",
    "    filtered = streaming_ratings_df.copy()\n",
    "    filtered = filtered[filtered['platform'] == platform]\n",
    "    if year is not None:\n",
    "        filtered = filtered[filtered['year'] == year]\n",
    "    \n",
    "    # Contar la cantidad de películas por plataforma y devolver los resultados\n",
    "    count = len(filtered[filtered['scored'] > scored])\n",
    "    return {'count': count}"
   ]
  },
  {
   "cell_type": "code",
   "execution_count": 118,
   "metadata": {},
   "outputs": [
    {
     "data": {
      "text/plain": [
       "{'count': 152}"
      ]
     },
     "execution_count": 118,
     "metadata": {},
     "output_type": "execute_result"
    }
   ],
   "source": [
    "#Reviso que la consulta funcione, con parametros de ejemplo:\n",
    "get_score_count(platform='netflix',scored=3 , year=2009)"
   ]
  },
  {
   "attachments": {},
   "cell_type": "markdown",
   "metadata": {},
   "source": [
    "### TERCERA CONSULTA"
   ]
  },
  {
   "attachments": {},
   "cell_type": "markdown",
   "metadata": {},
   "source": [
    "Cantidad de películas por plataforma con filtro de PLATAFORMA. (La función debe llamarse get_count_platform(platform))"
   ]
  },
  {
   "cell_type": "code",
   "execution_count": 98,
   "metadata": {},
   "outputs": [
    {
     "name": "stdout",
     "output_type": "stream",
     "text": [
      "Index(['type', 'title', 'director', 'cast', 'country', 'date_added', 'year',\n",
      "       'rating', 'listed_in', 'description', 'platform', 'id', 'duration_int',\n",
      "       'duration_type', 'scored'],\n",
      "      dtype='object')\n"
     ]
    }
   ],
   "source": [
    "print(streaming_ratings_df.columns)"
   ]
  },
  {
   "cell_type": "code",
   "execution_count": 113,
   "metadata": {},
   "outputs": [],
   "source": [
    "# Consulta 3: Cantidad de películas por plataforma y filtrar los resultados según la plataforma indicada\n",
    "@app.get('/count_platform/')\n",
    "def get_count_platform(platform: str):\n",
    "    streaming_ratings_df = pd.read_csv('streaming_ratings.csv')\n",
    "    count = len(streaming_ratings_df[streaming_ratings_df['platform'] == platform])\n",
    "    return {'count': count}"
   ]
  },
  {
   "cell_type": "code",
   "execution_count": 114,
   "metadata": {},
   "outputs": [
    {
     "data": {
      "text/plain": [
       "{'count': 8807}"
      ]
     },
     "execution_count": 114,
     "metadata": {},
     "output_type": "execute_result"
    }
   ],
   "source": [
    "#Reviso que la consulta funcione, con parametros de ejemplo:\n",
    "get_count_platform(platform='netflix')"
   ]
  },
  {
   "attachments": {},
   "cell_type": "markdown",
   "metadata": {},
   "source": [
    "### CUARTA CONSULTA"
   ]
  },
  {
   "attachments": {},
   "cell_type": "markdown",
   "metadata": {},
   "source": [
    "Actor que más se repite según plataforma y año. (La función debe llamarse get_actor(platform, year))"
   ]
  },
  {
   "cell_type": "code",
   "execution_count": 100,
   "metadata": {},
   "outputs": [
    {
     "name": "stdout",
     "output_type": "stream",
     "text": [
      "Index(['type', 'title', 'director', 'cast', 'country', 'date_added', 'year',\n",
      "       'rating', 'listed_in', 'description', 'platform', 'id', 'duration_int',\n",
      "       'duration_type', 'scored'],\n",
      "      dtype='object')\n"
     ]
    }
   ],
   "source": [
    "print(streaming_ratings_df.columns)"
   ]
  },
  {
   "cell_type": "code",
   "execution_count": 111,
   "metadata": {},
   "outputs": [],
   "source": [
    "@app.get('/actor/')\n",
    "async def get_actor(platform: str, year: int):\n",
    "    streaming_ratings_df = pd.read_csv('streaming_ratings.csv')\n",
    "    # Filtrar por plataforma y año\n",
    "    df_filtered = streaming_ratings_df[(streaming_ratings_df['platform'] == platform) & (streaming_ratings_df['year'] == year)]\n",
    "    # Concatenar los valores de la columna \"cast\"\n",
    "    actors_df = df_filtered['cast'].str.split(', ', expand=True)\n",
    "    # Contar la frecuencia de cada actor\n",
    "    actor_count = actors_df.stack().value_counts().reset_index()\n",
    "    # Obtener el actor con mayor frecuencia\n",
    "    most_common_actor = actor_count.iloc[0]['index']\n",
    "   \n",
    "    return most_common_actor"
   ]
  },
  {
   "cell_type": "code",
   "execution_count": 112,
   "metadata": {},
   "outputs": [
    {
     "data": {
      "text/plain": [
       "<coroutine object get_actor at 0x000001B48DC43140>"
      ]
     },
     "execution_count": 112,
     "metadata": {},
     "output_type": "execute_result"
    }
   ],
   "source": [
    "#Reviso que la consulta funcione, con parametros de ejemplo:\n",
    "get_actor(platform='netflix', year='2009')"
   ]
  }
 ],
 "metadata": {
  "kernelspec": {
   "display_name": "Python 3",
   "language": "python",
   "name": "python3"
  },
  "language_info": {
   "codemirror_mode": {
    "name": "ipython",
    "version": 3
   },
   "file_extension": ".py",
   "mimetype": "text/x-python",
   "name": "python",
   "nbconvert_exporter": "python",
   "pygments_lexer": "ipython3",
   "version": "3.11.1"
  },
  "orig_nbformat": 4
 },
 "nbformat": 4,
 "nbformat_minor": 2
}
